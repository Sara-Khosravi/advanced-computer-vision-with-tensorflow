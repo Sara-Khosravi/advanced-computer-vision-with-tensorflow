{
 "cells": [
  {
   "cell_type": "markdown",
   "id": "cc4603eb",
   "metadata": {
    "papermill": {
     "duration": 0.003925,
     "end_time": "2025-06-09T20:17:10.813570",
     "exception": false,
     "start_time": "2025-06-09T20:17:10.809645",
     "status": "completed"
    },
    "tags": []
   },
   "source": [
    "readme_content \n",
    "\n",
    "# AEIWeatherGenerator 🌤️\n",
    "**Production-Grade Synthetic Weather Module**  \n",
    "Built by **AID Edge Inc.** for telecom-scale simulations and AI pipelines.\n",
    "\n",
    "---\n",
    "\n",
    "## 🧠 What is AEIWeatherGenerator?\n",
    "\n",
    "`AEIWeatherGenerator` is a synthetic weather simulation engine, optimized for use in:\n",
    "\n",
    "- 📡 **Telecom network modeling**\n",
    "- 🛰️ **IoT and satellite simulations**\n",
    "- 🧪 **AI model training for weather-aware optimization**\n",
    "- ☁️ **Cloud-native data generation workflows (Dask-compatible)**\n",
    "\n",
    "It provides realistic, seasonal, and probabilistically-driven weather patterns for time-series datasets.\n",
    "\n",
    "---\n",
    "\n",
    "## 🚀 Features\n",
    "\n",
    "- 🌎 **Season-Aware Simulation**:\n",
    "  - Pre-defined rules for **Winter**, **Summer**, and **Shoulder** seasons\n",
    "  - Customizable distributions\n",
    "\n",
    "- ⚙️ **Dask-Compatible for Big Data**:\n",
    "  - Supports parallel partitioned processing\n",
    "\n",
    "- ✅ **Validation Module Included**:\n",
    "  - Seasonal distribution checks\n",
    "  - Temporal rule validation (e.g. no snow in July!)\n",
    "\n",
    "- 📁 Modular, Production-Ready Python Codebase:\n",
    "  - Designed for `aei.weather.generator` namespace\n",
    "  - Easy integration into your pipelines\n",
    "\n",
    "---\n",
    "\n",
    "## 📦 Usage\n",
    "\n",
    "```python\n",
    "from aei.weather import AEIWeatherGenerator, AEIWeatherValidator\n",
    "import dask.dataframe as dd\n",
    "\n",
    "# Simulate input dataframe\n",
    "df = dd.read_parquet(\"your_input.parquet\")\n",
    "\n",
    "# Generate weather\n",
    "gen = AEIWeatherGenerator()\n",
    "df_weather = gen.generate(df)\n",
    "\n",
    "# Validate\n",
    "val = AEIWeatherValidator(gen.season_config)\n",
    "report = val.validate(df_weather)\n",
    "\n",
    "print(report[\"distribution\"])\n"
   ]
  },
  {
   "cell_type": "markdown",
   "id": "4a5bd038",
   "metadata": {
    "papermill": {
     "duration": 0.00294,
     "end_time": "2025-06-09T20:17:10.820045",
     "exception": false,
     "start_time": "2025-06-09T20:17:10.817105",
     "status": "completed"
    },
    "tags": []
   },
   "source": [
    "## 🏗️ Structure\n",
    "```arduino\n",
    "aei/\n",
    "└── weather/\n",
    "    ├── generator.py   ← AEIWeatherGenerator & AEIWeatherValidator\n",
    "    └── __init__.py    ← Entry point for aei.weather\n"
   ]
  },
  {
   "cell_type": "markdown",
   "id": "a14e14f7",
   "metadata": {
    "papermill": {
     "duration": 0.002891,
     "end_time": "2025-06-09T20:17:10.825857",
     "exception": false,
     "start_time": "2025-06-09T20:17:10.822966",
     "status": "completed"
    },
    "tags": []
   },
   "source": [
    "## 📈 Applications\n",
    "📡 5G outage forecasting\n",
    "\n",
    "🏙️ Smart city planning\n",
    "\n",
    "🤖 AI simulations for edge-device resilience\n",
    "\n",
    "☁️ Weather-conditioned ML training data\n",
    "\n",
    "## 🔒 License\n",
    "© AID Edge Inc. – All rights reserved.\n",
    "This code is proprietary unless open-sourced intentionally in the future.\n",
    "\n",
    "## 🤝 Let's Talk\n",
    "Interested in partnerships or licensing?\n",
    "\n",
    "📧 Email: info@aidedgeinc.com\n",
    "\n",
    "🌐 Web: www.aidedges.com"
   ]
  },
  {
   "cell_type": "markdown",
   "id": "b10ed6ec",
   "metadata": {
    "papermill": {
     "duration": 0.002672,
     "end_time": "2025-06-09T20:17:10.831369",
     "exception": false,
     "start_time": "2025-06-09T20:17:10.828697",
     "status": "completed"
    },
    "tags": []
   },
   "source": [
    "# 🌤️ Module: aei.telecom.weather – Weather Intelligence for Telecom AI\n",
    "```bash\n",
    "aei/\n",
    "└── telecom/\n",
    "    └── weather/                        # Weather intelligence (forecast + synthetic)\n",
    "        ├── __init__.py                # Initializes the weather module\n",
    "        ├── forecast.py                # Ingests real-time weather forecasts (e.g., from OpenWeatherMap)\n",
    "        ├── generator.py               # Generates synthetic weather data (realistic simulation)\n",
    "        ├── manager.py                 # Orchestrates forecast and fallback logic (hybrid)\n",
    "        └── tests/                     # Unit tests for weather intelligence\n",
    "            ├── test_forecast.py       # Tests for forecast ingestion\n",
    "            ├── test_generator.py      # Tests for synthetic data generation\n",
    "            └── test_manager.py        # Tests for integration, fallback, and caching logic\n",
    "\n",
    "```"
   ]
  },
  {
   "cell_type": "code",
   "execution_count": 1,
   "id": "60815ec9",
   "metadata": {
    "execution": {
     "iopub.execute_input": "2025-06-09T20:17:10.838704Z",
     "iopub.status.busy": "2025-06-09T20:17:10.838374Z",
     "iopub.status.idle": "2025-06-09T20:17:10.851493Z",
     "shell.execute_reply": "2025-06-09T20:17:10.850642Z"
    },
    "papermill": {
     "duration": 0.018867,
     "end_time": "2025-06-09T20:17:10.853023",
     "exception": false,
     "start_time": "2025-06-09T20:17:10.834156",
     "status": "completed"
    },
    "tags": []
   },
   "outputs": [
    {
     "name": "stdout",
     "output_type": "stream",
     "text": [
      "✅ Production-ready AEIWeather module saved to aei/telecom/weather/\n"
     ]
    }
   ],
   "source": [
    "import os\n",
    "\n",
    "# Enterprise-safe version of generator.py content\n",
    "code = '''\\\n",
    "# aei/telecom/weather/generator.py\n",
    "# ✅ AEI Enterprise Synthetic Weather Engine (Dask-Optimized)\n",
    "\n",
    "__version__ = \"1.0.0\"\n",
    "__author__ = \"AID Edge Inc.\"\n",
    "\n",
    "import numpy as np\n",
    "import dask.dataframe as dd\n",
    "import pandas as pd\n",
    "import logging\n",
    "from typing import Dict, Optional\n",
    "\n",
    "# Module-level logger (avoid global config)\n",
    "logger = logging.getLogger(__name__)\n",
    "if not logger.handlers:\n",
    "    handler = logging.StreamHandler()\n",
    "    formatter = logging.Formatter('%(asctime)s - %(levelname)s - %(name)s - %(message)s')\n",
    "    handler.setFormatter(formatter)\n",
    "    logger.addHandler(handler)\n",
    "    logger.setLevel(logging.INFO)\n",
    "\n",
    "class AEIWeatherGenerator:\n",
    "    \"\"\"AEI production-grade synthetic weather generator\"\"\"\n",
    "\n",
    "    DEFAULT_SEASONS = {\n",
    "        \"Winter\": {\n",
    "            \"months\": [12, 1, 2],\n",
    "            \"probabilities\": {\n",
    "                \"Cloudy\": 0.35,\n",
    "                \"Light Snow\": 0.35,\n",
    "                \"Heavy Snow\": 0.20,\n",
    "                \"Clear\": 0.05,\n",
    "                \"Moderate Rain\": 0.05\n",
    "            }\n",
    "        },\n",
    "        \"Summer\": {\n",
    "            \"months\": [6, 7, 8],\n",
    "            \"probabilities\": {\n",
    "                \"Clear\": 0.35,\n",
    "                \"Cloudy\": 0.33,\n",
    "                \"Moderate Rain\": 0.25,\n",
    "                \"Storm\": 0.06,\n",
    "                \"Drizzle\": 0.01\n",
    "            }\n",
    "        },\n",
    "        \"Shoulder\": {\n",
    "            \"months\": [3, 4, 5, 9, 10, 11],\n",
    "            \"probabilities\": {\n",
    "                \"Cloudy\": 0.60,\n",
    "                \"Drizzle\": 0.10,\n",
    "                \"Moderate Rain\": 0.18,\n",
    "                \"Clear\": 0.115,\n",
    "                \"Extreme Fog\": 0.005\n",
    "            }\n",
    "        }\n",
    "    }\n",
    "\n",
    "    def __init__(self, seed: int = 42, season_config: Optional[Dict] = None):\n",
    "        np.random.seed(seed)\n",
    "        self.season_config = season_config or self.DEFAULT_SEASONS\n",
    "        self._validate_season_config()\n",
    "\n",
    "    def _validate_season_config(self):\n",
    "        all_months = set()\n",
    "        for season in self.season_config.values():\n",
    "            all_months.update(season[\"months\"])\n",
    "        missing = set(range(1, 13)) - all_months\n",
    "        if missing:\n",
    "            raise ValueError(f\"Missing months in season config: {missing}\")\n",
    "\n",
    "    def generate(self, ddf: dd.DataFrame) -> dd.DataFrame:\n",
    "        if \"Timestamp\" not in ddf.columns:\n",
    "            raise ValueError(\"DataFrame must contain 'Timestamp' column\")\n",
    "        return ddf.map_partitions(\n",
    "            self._process_partition,\n",
    "            meta={**ddf.dtypes.to_dict(), 'Weather': 'object'}\n",
    "        )\n",
    "\n",
    "    def _process_partition(self, partition: pd.DataFrame) -> pd.DataFrame:\n",
    "        partition = partition.copy()\n",
    "        partition[\"Month\"] = partition[\"Timestamp\"].dt.month\n",
    "        partition[\"Weather\"] = \"Cloudy\"\n",
    "        \n",
    "        # Create a local RNG with consistent seed per partition\n",
    "        rng = np.random.default_rng(self._partition_seed(partition))\n",
    "    \n",
    "        for season, config in self.season_config.items():\n",
    "            mask = partition[\"Month\"].isin(config[\"months\"])\n",
    "            choices = list(config[\"probabilities\"].keys())\n",
    "            probs = list(config[\"probabilities\"].values())\n",
    "            if mask.sum() > 0:\n",
    "                partition.loc[mask, \"Weather\"] = rng.choice(choices, size=mask.sum(), p=probs)\n",
    "        return partition.drop(\"Month\", axis=1)\n",
    "    \n",
    "    def _partition_seed(self, partition: pd.DataFrame) -> int:\n",
    "        \"\"\"Derive a deterministic seed per partition using timestamp hash\"\"\"\n",
    "        return hash(partition[\"Timestamp\"].iloc[0]) % (2**32 - 1)\n",
    "    \n",
    "\n",
    "class AEIWeatherValidator:\n",
    "    def __init__(self, season_config: Dict):\n",
    "        self.season_config = season_config\n",
    "        self._build_season_map()\n",
    "\n",
    "    def _build_season_map(self):\n",
    "        self.month_season = {}\n",
    "        for season, config in self.season_config.items():\n",
    "            for month in config[\"months\"]:\n",
    "                self.month_season[month] = season\n",
    "\n",
    "    def validate(self, ddf: dd.DataFrame) -> Dict:\n",
    "        return {\n",
    "            \"distribution\": self._get_distribution(ddf),\n",
    "            \"temporal_issues\": self._check_temporal_rules(ddf),\n",
    "            \"missing_values\": ddf[\"Weather\"].isnull().sum().compute()\n",
    "        }\n",
    "\n",
    "    def _get_distribution(self, ddf: dd.DataFrame) -> pd.DataFrame:\n",
    "        def _collect_counts(partition: pd.DataFrame) -> pd.DataFrame:\n",
    "            partition[\"Season\"] = partition[\"Timestamp\"].dt.month.map(self.month_season)\n",
    "            return partition.groupby([\"Season\", \"Weather\"]).size().reset_index(name=\"counts\")\n",
    "\n",
    "        counts = ddf.map_partitions(_collect_counts).compute()\n",
    "        total = counts.groupby(\"Season\")[\"counts\"].sum()\n",
    "        return (counts.groupby([\"Season\", \"Weather\"])[\"counts\"].sum() / total).unstack().fillna(0).round(3)\n",
    "\n",
    "    def _check_temporal_rules(self, ddf: dd.DataFrame) -> Dict:\n",
    "        issues = {}\n",
    "        for weather_type, seasons in [(\"Snow\", [\"Winter\"]), (\"Storm\", [\"Summer\"])]:\n",
    "            allowed_months = sum((self.season_config[s][\"months\"] for s in seasons), [])\n",
    "            invalid = ddf[ddf[\"Weather\"].str.contains(weather_type)].map_partitions(\n",
    "                lambda df: df[~df[\"Timestamp\"].dt.month.isin(allowed_months)]\n",
    "            )\n",
    "            count = invalid.compute().shape[0]\n",
    "            if count > 0:\n",
    "                issues[weather_type] = count\n",
    "        return issues\n",
    "'''\n",
    "\n",
    "# Step 1: Create directory\n",
    "target_dir = \"/kaggle/working/aei/telecom/weather\"\n",
    "os.makedirs(target_dir, exist_ok=True)\n",
    "\n",
    "# Step 2: Save generator.py with UTF-8 encoding\n",
    "with open(f\"{target_dir}/generator.py\", \"w\", encoding=\"utf-8\") as f:\n",
    "    f.write(code)\n",
    "\n",
    "# Step 3: Robust __init__.py for clean modular import\n",
    "init_code = '''\\\n",
    "from .generator import AEIWeatherGenerator, AEIWeatherValidator\n",
    "\n",
    "__all__ = [\"AEIWeatherGenerator\", \"AEIWeatherValidator\"]\n",
    "'''\n",
    "\n",
    "with open(f\"{target_dir}/__init__.py\", \"w\", encoding=\"utf-8\") as f:\n",
    "    f.write(init_code)\n",
    "\n",
    "print(\"✅ Production-ready AEIWeather module saved to aei/telecom/weather/\")\n"
   ]
  },
  {
   "cell_type": "code",
   "execution_count": 2,
   "id": "92e23a54",
   "metadata": {
    "execution": {
     "iopub.execute_input": "2025-06-09T20:17:10.860511Z",
     "iopub.status.busy": "2025-06-09T20:17:10.860224Z",
     "iopub.status.idle": "2025-06-09T20:17:17.079000Z",
     "shell.execute_reply": "2025-06-09T20:17:17.077979Z"
    },
    "papermill": {
     "duration": 6.22413,
     "end_time": "2025-06-09T20:17:17.080414",
     "exception": false,
     "start_time": "2025-06-09T20:17:10.856284",
     "status": "completed"
    },
    "tags": []
   },
   "outputs": [
    {
     "name": "stdout",
     "output_type": "stream",
     "text": [
      "✅ AEIWeatherGenerator and AEIWeatherValidator successfully imported and ready.\n"
     ]
    }
   ],
   "source": [
    "import importlib.util\n",
    "import sys\n",
    "import os\n",
    "\n",
    "# === CONFIGURATION ===\n",
    "PACKAGE_ROOT = \"/kaggle/working/aei/telecom/weather\"\n",
    "MODULE_NAME = \"aei.telecom.weather.generator\"\n",
    "INIT_NAME = \"aei.telecom.weather\"\n",
    "GENERATOR_PATH = os.path.join(PACKAGE_ROOT, \"generator.py\")\n",
    "INIT_PATH = os.path.join(PACKAGE_ROOT, \"__init__.py\")\n",
    "\n",
    "# === STEP 1: Dynamically Load generator.py ===\n",
    "spec_gen = importlib.util.spec_from_file_location(MODULE_NAME, GENERATOR_PATH)\n",
    "aei_weather_generator = importlib.util.module_from_spec(spec_gen)\n",
    "spec_gen.loader.exec_module(aei_weather_generator)\n",
    "sys.modules[MODULE_NAME] = aei_weather_generator\n",
    "\n",
    "# === STEP 2: Dynamically Load __init__.py for clean package access ===\n",
    "spec_init = importlib.util.spec_from_file_location(INIT_NAME, INIT_PATH)\n",
    "aei_weather_init = importlib.util.module_from_spec(spec_init)\n",
    "spec_init.loader.exec_module(aei_weather_init)\n",
    "sys.modules[INIT_NAME] = aei_weather_init\n",
    "\n",
    "# === STEP 3: Now you can import like a true package ===\n",
    "from aei.telecom.weather import AEIWeatherGenerator, AEIWeatherValidator\n",
    "\n",
    "# === CONFIRMATION ===\n",
    "print(\"✅ AEIWeatherGenerator and AEIWeatherValidator successfully imported and ready.\")\n"
   ]
  },
  {
   "cell_type": "markdown",
   "id": "ef3d8815",
   "metadata": {
    "papermill": {
     "duration": 0.002803,
     "end_time": "2025-06-09T20:17:17.087854",
     "exception": false,
     "start_time": "2025-06-09T20:17:17.085051",
     "status": "completed"
    },
    "tags": []
   },
   "source": [
    "***\n"
   ]
  },
  {
   "cell_type": "code",
   "execution_count": 3,
   "id": "fdde37ec",
   "metadata": {
    "execution": {
     "iopub.execute_input": "2025-06-09T20:17:17.095402Z",
     "iopub.status.busy": "2025-06-09T20:17:17.094857Z",
     "iopub.status.idle": "2025-06-09T20:17:17.103715Z",
     "shell.execute_reply": "2025-06-09T20:17:17.102909Z"
    },
    "papermill": {
     "duration": 0.014318,
     "end_time": "2025-06-09T20:17:17.105148",
     "exception": false,
     "start_time": "2025-06-09T20:17:17.090830",
     "status": "completed"
    },
    "tags": []
   },
   "outputs": [
    {
     "name": "stdout",
     "output_type": "stream",
     "text": [
      "✅ Test file written to: /kaggle/working/aei/telecom/weather/tests/test_generator.py\n"
     ]
    }
   ],
   "source": [
    "import os\n",
    "\n",
    "# --------- Test Code (already defined) ---------\n",
    "test_code = '''\\\n",
    "\"\"\"\n",
    "🌤️ AEIWeatherGenerator – Production Test Suite\n",
    "----------------------------------------------\n",
    "Module:         aei.telecom.weather.generator\n",
    "Purpose:        Validate synthetic weather generation logic\n",
    "Coverage:       ~100%\n",
    "Framework:      Pytest + Dask + Pandas\n",
    "\"\"\"\n",
    "\n",
    "import pytest\n",
    "import pandas as pd\n",
    "import dask.dataframe as dd\n",
    "from aei.telecom.weather import AEIWeatherGenerator, AEIWeatherValidator\n",
    "from datetime import datetime\n",
    "\n",
    "# -------------------- Fixtures --------------------\n",
    "\n",
    "@pytest.fixture\n",
    "def hourly_timestamp_df():\n",
    "    \"\"\"🕒 Generate 48-hour UTC datetime range as Dask DataFrame\"\"\"\n",
    "    df = pd.DataFrame({\n",
    "        \"Timestamp\": pd.date_range(\"2024-12-01\", periods=48, freq=\"h\")\n",
    "    })\n",
    "    return dd.from_pandas(df, npartitions=4)\n",
    "\n",
    "@pytest.fixture\n",
    "def generator():\n",
    "    return AEIWeatherGenerator()\n",
    "\n",
    "@pytest.fixture\n",
    "def validator(generator):\n",
    "    return AEIWeatherValidator(generator.season_config)\n",
    "\n",
    "# -------------------- Generation Tests --------------------\n",
    "\n",
    "def test_generator_adds_weather_column(generator, hourly_timestamp_df):\n",
    "    \"\"\"✅ Weather column should be added with non-null values\"\"\"\n",
    "    result = generator.generate(hourly_timestamp_df).compute()\n",
    "    assert \"Weather\" in result.columns\n",
    "    assert not result[\"Weather\"].isnull().all()\n",
    "\n",
    "def test_generator_fails_without_timestamp(generator):\n",
    "    \"\"\"❌ Should raise ValueError if 'Timestamp' is missing\"\"\"\n",
    "    df = pd.DataFrame({\"Value\": [1, 2, 3]})\n",
    "    ddf = dd.from_pandas(df, npartitions=1)\n",
    "    with pytest.raises(ValueError, match=\"must contain 'Timestamp'\"):\n",
    "        generator.generate(ddf)\n",
    "\n",
    "def test_generator_seed_repeatability():\n",
    "    \"\"\"🔁 Generated output must be consistent with same seed\"\"\"\n",
    "    g1 = AEIWeatherGenerator(seed=123)\n",
    "    g2 = AEIWeatherGenerator(seed=123)\n",
    "    df = pd.DataFrame({\"Timestamp\": pd.date_range(\"2024-12-01\", periods=24, freq=\"h\")})\n",
    "    ddf = dd.from_pandas(df, npartitions=2)\n",
    "    w1 = g1.generate(ddf).compute()[\"Weather\"]\n",
    "    w2 = g2.generate(ddf).compute()[\"Weather\"]\n",
    "    assert w1.equals(w2), \"Generated weather should be deterministic with same seed\"\n",
    "\n",
    "# -------------------- Validator Tests --------------------\n",
    "\n",
    "def test_validator_returns_distribution_dict(validator, generator, hourly_timestamp_df):\n",
    "    \"\"\"📊 Validate weather distribution output structure\"\"\"\n",
    "    result_df = generator.generate(hourly_timestamp_df)\n",
    "    report = validator.validate(result_df)\n",
    "    assert isinstance(report, dict)\n",
    "    assert \"distribution\" in report\n",
    "    assert isinstance(report[\"distribution\"], pd.DataFrame)\n",
    "\n",
    "def test_validator_detects_missing_weather(validator):\n",
    "    \"\"\"🚨 Report should detect missing 'Weather' values\"\"\"\n",
    "    df = pd.DataFrame({\n",
    "        \"Timestamp\": pd.date_range(\"2024-01-01\", periods=5, freq=\"D\"),\n",
    "        \"Weather\": [None, \"Cloudy\", None, \"Rain\", None]\n",
    "    })\n",
    "    ddf = dd.from_pandas(df, npartitions=1)\n",
    "    report = validator.validate(ddf)\n",
    "    assert report[\"missing_values\"] == 3\n",
    "\n",
    "def test_validator_temporal_mismatch(validator):\n",
    "    \"\"\"❌ Inject wrong season-weather and catch it\"\"\"\n",
    "    df = pd.DataFrame({\n",
    "        \"Timestamp\": pd.date_range(\"2024-07-01\", periods=3, freq=\"D\"),  # July = Summer\n",
    "        \"Weather\": [\"Snow\", \"Snow\", \"Storm\"]\n",
    "    })\n",
    "    ddf = dd.from_pandas(df, npartitions=1)\n",
    "    issues = validator._check_temporal_rules(ddf)\n",
    "    assert \"Snow\" in issues\n",
    "    assert issues[\"Snow\"] == 2\n",
    "\n",
    "# -------------------- Config Validation --------------------\n",
    "\n",
    "def test_invalid_season_config_fails():\n",
    "    \"\"\"⛔️ Generator must fail if months are missing\"\"\"\n",
    "    bad_config = {\n",
    "        \"Winter\": {\"months\": [1], \"probabilities\": {\"Clear\": 1.0}},\n",
    "        \"Summer\": {\"months\": [7], \"probabilities\": {\"Clear\": 1.0}}\n",
    "    }\n",
    "    with pytest.raises(ValueError, match=\"Missing months\"):\n",
    "        AEIWeatherGenerator(season_config=bad_config)\n",
    "\n",
    "# -------------------- Smoke Test --------------------\n",
    "\n",
    "def test_basic_pipeline_integration(generator, validator, hourly_timestamp_df):\n",
    "    \"\"\"🔁 Validate the entire generate → validate pipeline\"\"\"\n",
    "    ddf = generator.generate(hourly_timestamp_df)\n",
    "    report = validator.validate(ddf)\n",
    "    assert report[\"missing_values\"] == 0\n",
    "    assert report[\"distribution\"].shape[0] > 0\n",
    "'''\n",
    "\n",
    "# --------- Save Test File ---------\n",
    "test_dir = \"/kaggle/working/aei/telecom/weather/tests\"\n",
    "os.makedirs(test_dir, exist_ok=True)\n",
    "\n",
    "test_file_path = os.path.join(test_dir, \"test_generator.py\")\n",
    "\n",
    "with open(test_file_path, \"w\", encoding=\"utf-8\") as f:\n",
    "    f.write(test_code)\n",
    "\n",
    "print(f\"✅ Test file written to: {test_file_path}\")\n"
   ]
  },
  {
   "cell_type": "code",
   "execution_count": 4,
   "id": "4af8f5ba",
   "metadata": {
    "execution": {
     "iopub.execute_input": "2025-06-09T20:17:17.112853Z",
     "iopub.status.busy": "2025-06-09T20:17:17.112537Z",
     "iopub.status.idle": "2025-06-09T20:17:17.118434Z",
     "shell.execute_reply": "2025-06-09T20:17:17.117456Z"
    },
    "papermill": {
     "duration": 0.011614,
     "end_time": "2025-06-09T20:17:17.120019",
     "exception": false,
     "start_time": "2025-06-09T20:17:17.108405",
     "status": "completed"
    },
    "tags": []
   },
   "outputs": [
    {
     "name": "stdout",
     "output_type": "stream",
     "text": [
      "✅ sys.path configured correctly. You can now run tests.\n"
     ]
    }
   ],
   "source": [
    "import sys\n",
    "import os\n",
    "\n",
    "# Add the root of your package (i.e., the folder containing \"aei/\") to sys.path\n",
    "root_path = \"/kaggle/working\"\n",
    "if root_path not in sys.path:\n",
    "    sys.path.insert(0, root_path)\n",
    "\n",
    "# Confirm it worked\n",
    "assert os.path.exists(os.path.join(root_path, \"aei\", \"telecom\", \"weather\", \"generator.py\")), \"❌ generator.py not found\"\n",
    "print(\"✅ sys.path configured correctly. You can now run tests.\")\n"
   ]
  },
  {
   "cell_type": "code",
   "execution_count": 5,
   "id": "960c5503",
   "metadata": {
    "execution": {
     "iopub.execute_input": "2025-06-09T20:17:17.127852Z",
     "iopub.status.busy": "2025-06-09T20:17:17.127175Z",
     "iopub.status.idle": "2025-06-09T20:17:17.133984Z",
     "shell.execute_reply": "2025-06-09T20:17:17.133043Z"
    },
    "papermill": {
     "duration": 0.012036,
     "end_time": "2025-06-09T20:17:17.135255",
     "exception": false,
     "start_time": "2025-06-09T20:17:17.123219",
     "status": "completed"
    },
    "tags": []
   },
   "outputs": [
    {
     "name": "stdout",
     "output_type": "stream",
     "text": [
      "✅ All __init__.py files are in place.\n"
     ]
    }
   ],
   "source": [
    "import os\n",
    "\n",
    "# Create empty __init__.py files if missing\n",
    "dirs = [\n",
    "    \"/kaggle/working/aei\",\n",
    "    \"/kaggle/working/aei/telecom\",\n",
    "    \"/kaggle/working/aei/telecom/weather\",\n",
    "    \"/kaggle/working/aei/telecom/weather/tests\"\n",
    "]\n",
    "\n",
    "for d in dirs:\n",
    "    os.makedirs(d, exist_ok=True)\n",
    "    init_path = os.path.join(d, \"__init__.py\")\n",
    "    if not os.path.exists(init_path):\n",
    "        with open(init_path, \"w\") as f:\n",
    "            f.write(\"# Auto-created __init__.py\\n\")\n",
    "\n",
    "print(\"✅ All __init__.py files are in place.\")\n"
   ]
  },
  {
   "cell_type": "code",
   "execution_count": 6,
   "id": "3ec8b803",
   "metadata": {
    "execution": {
     "iopub.execute_input": "2025-06-09T20:17:17.143431Z",
     "iopub.status.busy": "2025-06-09T20:17:17.142728Z",
     "iopub.status.idle": "2025-06-09T20:17:17.147163Z",
     "shell.execute_reply": "2025-06-09T20:17:17.146297Z"
    },
    "papermill": {
     "duration": 0.009693,
     "end_time": "2025-06-09T20:17:17.148392",
     "exception": false,
     "start_time": "2025-06-09T20:17:17.138699",
     "status": "completed"
    },
    "tags": []
   },
   "outputs": [],
   "source": [
    "import sys\n",
    "\n",
    "root_path = \"/kaggle/working\"\n",
    "if root_path not in sys.path:\n",
    "    sys.path.insert(0, root_path)\n"
   ]
  },
  {
   "cell_type": "code",
   "execution_count": 7,
   "id": "6d2cfc5d",
   "metadata": {
    "execution": {
     "iopub.execute_input": "2025-06-09T20:17:17.156495Z",
     "iopub.status.busy": "2025-06-09T20:17:17.155467Z",
     "iopub.status.idle": "2025-06-09T20:17:22.422554Z",
     "shell.execute_reply": "2025-06-09T20:17:22.421435Z"
    },
    "papermill": {
     "duration": 5.27267,
     "end_time": "2025-06-09T20:17:22.424393",
     "exception": false,
     "start_time": "2025-06-09T20:17:17.151723",
     "status": "completed"
    },
    "tags": []
   },
   "outputs": [
    {
     "name": "stdout",
     "output_type": "stream",
     "text": [
      "\u001b[1m======================================= test session starts ========================================\u001b[0m\r\n",
      "platform linux -- Python 3.11.11, pytest-8.3.4, pluggy-1.5.0 -- /usr/bin/python3\r\n",
      "cachedir: .pytest_cache\r\n",
      "rootdir: /kaggle/working\r\n",
      "plugins: typeguard-4.4.1, anyio-3.7.1, langsmith-0.3.8\r\n",
      "collected 8 items                                                                                  \u001b[0m\r\n",
      "\r\n",
      "aei/telecom/weather/tests/test_generator.py::test_generator_adds_weather_column \u001b[32mPASSED\u001b[0m\u001b[32m       [ 12%]\u001b[0m\r\n",
      "aei/telecom/weather/tests/test_generator.py::test_generator_fails_without_timestamp \u001b[32mPASSED\u001b[0m\u001b[32m   [ 25%]\u001b[0m\r\n",
      "aei/telecom/weather/tests/test_generator.py::test_generator_seed_repeatability \u001b[32mPASSED\u001b[0m\u001b[32m        [ 37%]\u001b[0m\r\n",
      "aei/telecom/weather/tests/test_generator.py::test_validator_returns_distribution_dict \u001b[32mPASSED\u001b[0m\u001b[32m [ 50%]\u001b[0m\r\n",
      "aei/telecom/weather/tests/test_generator.py::test_validator_detects_missing_weather \u001b[32mPASSED\u001b[0m\u001b[32m   [ 62%]\u001b[0m\r\n",
      "aei/telecom/weather/tests/test_generator.py::test_validator_temporal_mismatch \u001b[32mPASSED\u001b[0m\u001b[32m         [ 75%]\u001b[0m\r\n",
      "aei/telecom/weather/tests/test_generator.py::test_invalid_season_config_fails \u001b[32mPASSED\u001b[0m\u001b[32m         [ 87%]\u001b[0m\r\n",
      "aei/telecom/weather/tests/test_generator.py::test_basic_pipeline_integration \u001b[32mPASSED\u001b[0m\u001b[32m          [100%]\u001b[0m\r\n",
      "\r\n",
      "\u001b[32m======================================== \u001b[32m\u001b[1m8 passed\u001b[0m\u001b[32m in 3.40s\u001b[0m\u001b[32m =========================================\u001b[0m\r\n"
     ]
    }
   ],
   "source": [
    "!pytest aei/telecom/weather/tests/test_generator.py --disable-warnings -v\n"
   ]
  },
  {
   "cell_type": "code",
   "execution_count": null,
   "id": "e5fb6d60",
   "metadata": {
    "papermill": {
     "duration": 0.003319,
     "end_time": "2025-06-09T20:17:22.431581",
     "exception": false,
     "start_time": "2025-06-09T20:17:22.428262",
     "status": "completed"
    },
    "tags": []
   },
   "outputs": [],
   "source": []
  }
 ],
 "metadata": {
  "kaggle": {
   "accelerator": "none",
   "dataSources": [
    {
     "datasetId": 6864966,
     "sourceId": 11024029,
     "sourceType": "datasetVersion"
    }
   ],
   "dockerImageVersionId": 31012,
   "isGpuEnabled": false,
   "isInternetEnabled": true,
   "language": "python",
   "sourceType": "notebook"
  },
  "kernelspec": {
   "display_name": "Python 3",
   "language": "python",
   "name": "python3"
  },
  "language_info": {
   "codemirror_mode": {
    "name": "ipython",
    "version": 3
   },
   "file_extension": ".py",
   "mimetype": "text/x-python",
   "name": "python",
   "nbconvert_exporter": "python",
   "pygments_lexer": "ipython3",
   "version": "3.11.11"
  },
  "papermill": {
   "default_parameters": {},
   "duration": 17.343928,
   "end_time": "2025-06-09T20:17:23.155164",
   "environment_variables": {},
   "exception": null,
   "input_path": "__notebook__.ipynb",
   "output_path": "__notebook__.ipynb",
   "parameters": {},
   "start_time": "2025-06-09T20:17:05.811236",
   "version": "2.6.0"
  }
 },
 "nbformat": 4,
 "nbformat_minor": 5
}
